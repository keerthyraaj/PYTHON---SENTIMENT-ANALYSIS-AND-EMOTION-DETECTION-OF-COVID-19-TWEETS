{
 "cells": [
  {
   "cell_type": "code",
   "execution_count": 2,
   "id": "69f744d2",
   "metadata": {},
   "outputs": [
    {
     "name": "stdout",
     "output_type": "stream",
     "text": [
      "Requirement already satisfied: gradio in c:\\users\\keert\\anaconda3\\lib\\site-packages (3.0.14)\n",
      "Requirement already satisfied: requests in c:\\users\\keert\\anaconda3\\lib\\site-packages (from gradio) (2.25.1)\n",
      "Requirement already satisfied: pydub in c:\\users\\keert\\anaconda3\\lib\\site-packages (from gradio) (0.25.1)\n",
      "Requirement already satisfied: ffmpy in c:\\users\\keert\\anaconda3\\lib\\site-packages (from gradio) (0.3.0)\n",
      "Requirement already satisfied: python-multipart in c:\\users\\keert\\anaconda3\\lib\\site-packages (from gradio) (0.0.5)\n",
      "Requirement already satisfied: matplotlib in c:\\users\\keert\\anaconda3\\lib\\site-packages (from gradio) (3.3.4)\n",
      "Requirement already satisfied: aiohttp in c:\\users\\keert\\anaconda3\\lib\\site-packages (from gradio) (3.8.1)\n",
      "Requirement already satisfied: fastapi in c:\\users\\keert\\anaconda3\\lib\\site-packages (from gradio) (0.78.0)\n",
      "Requirement already satisfied: pillow in c:\\users\\keert\\anaconda3\\lib\\site-packages (from gradio) (8.2.0)\n",
      "Requirement already satisfied: numpy in c:\\users\\keert\\anaconda3\\lib\\site-packages (from gradio) (1.20.1)\n",
      "Requirement already satisfied: Jinja2 in c:\\users\\keert\\anaconda3\\lib\\site-packages (from gradio) (2.11.3)\n",
      "Requirement already satisfied: analytics-python in c:\\users\\keert\\anaconda3\\lib\\site-packages (from gradio) (1.4.0)\n",
      "Requirement already satisfied: markdown-it-py[linkify,plugins] in c:\\users\\keert\\anaconda3\\lib\\site-packages (from gradio) (2.1.0)\n",
      "Requirement already satisfied: pandas in c:\\users\\keert\\anaconda3\\lib\\site-packages (from gradio) (1.2.4)\n",
      "Requirement already satisfied: paramiko in c:\\users\\keert\\anaconda3\\lib\\site-packages (from gradio) (2.7.2)\n",
      "Requirement already satisfied: orjson in c:\\users\\keert\\anaconda3\\lib\\site-packages (from gradio) (3.7.2)\n",
      "Requirement already satisfied: pycryptodome in c:\\users\\keert\\anaconda3\\lib\\site-packages (from gradio) (3.14.1)\n",
      "Requirement already satisfied: uvicorn in c:\\users\\keert\\anaconda3\\lib\\site-packages (from gradio) (0.17.6)\n",
      "Requirement already satisfied: aiosignal>=1.1.2 in c:\\users\\keert\\anaconda3\\lib\\site-packages (from aiohttp->gradio) (1.2.0)\n",
      "Requirement already satisfied: multidict<7.0,>=4.5 in c:\\users\\keert\\anaconda3\\lib\\site-packages (from aiohttp->gradio) (6.0.2)\n",
      "Requirement already satisfied: attrs>=17.3.0 in c:\\users\\keert\\anaconda3\\lib\\site-packages (from aiohttp->gradio) (20.3.0)\n",
      "Requirement already satisfied: async-timeout<5.0,>=4.0.0a3 in c:\\users\\keert\\anaconda3\\lib\\site-packages (from aiohttp->gradio) (4.0.2)\n",
      "Requirement already satisfied: frozenlist>=1.1.1 in c:\\users\\keert\\anaconda3\\lib\\site-packages (from aiohttp->gradio) (1.3.0)\n",
      "Requirement already satisfied: yarl<2.0,>=1.0 in c:\\users\\keert\\anaconda3\\lib\\site-packages (from aiohttp->gradio) (1.7.2)\n",
      "Requirement already satisfied: charset-normalizer<3.0,>=2.0 in c:\\users\\keert\\anaconda3\\lib\\site-packages (from aiohttp->gradio) (2.0.12)\n",
      "Requirement already satisfied: idna>=2.0 in c:\\users\\keert\\anaconda3\\lib\\site-packages (from yarl<2.0,>=1.0->aiohttp->gradio) (2.10)\n",
      "Requirement already satisfied: python-dateutil>2.1 in c:\\users\\keert\\anaconda3\\lib\\site-packages (from analytics-python->gradio) (2.8.1)\n",
      "Requirement already satisfied: six>=1.5 in c:\\users\\keert\\anaconda3\\lib\\site-packages (from analytics-python->gradio) (1.15.0)\n",
      "Requirement already satisfied: monotonic>=1.5 in c:\\users\\keert\\anaconda3\\lib\\site-packages (from analytics-python->gradio) (1.6)\n",
      "Requirement already satisfied: backoff==1.10.0 in c:\\users\\keert\\anaconda3\\lib\\site-packages (from analytics-python->gradio) (1.10.0)\n",
      "Requirement already satisfied: chardet<5,>=3.0.2 in c:\\users\\keert\\anaconda3\\lib\\site-packages (from requests->gradio) (4.0.0)\n",
      "Requirement already satisfied: urllib3<1.27,>=1.21.1 in c:\\users\\keert\\anaconda3\\lib\\site-packages (from requests->gradio) (1.26.4)\n",
      "Requirement already satisfied: certifi>=2017.4.17 in c:\\users\\keert\\anaconda3\\lib\\site-packages (from requests->gradio) (2020.12.5)\n",
      "Requirement already satisfied: starlette==0.19.1 in c:\\users\\keert\\anaconda3\\lib\\site-packages (from fastapi->gradio) (0.19.1)\n",
      "Requirement already satisfied: pydantic!=1.7,!=1.7.1,!=1.7.2,!=1.7.3,!=1.8,!=1.8.1,<2.0.0,>=1.6.2 in c:\\users\\keert\\anaconda3\\lib\\site-packages (from fastapi->gradio) (1.9.1)\n",
      "Requirement already satisfied: anyio<5,>=3.4.0 in c:\\users\\keert\\anaconda3\\lib\\site-packages (from starlette==0.19.1->fastapi->gradio) (3.6.1)\n",
      "Requirement already satisfied: typing-extensions>=3.10.0 in c:\\users\\keert\\anaconda3\\lib\\site-packages (from starlette==0.19.1->fastapi->gradio) (4.2.0)\n",
      "Requirement already satisfied: sniffio>=1.1 in c:\\users\\keert\\anaconda3\\lib\\site-packages (from anyio<5,>=3.4.0->starlette==0.19.1->fastapi->gradio) (1.2.0)\n",
      "Requirement already satisfied: MarkupSafe>=0.23 in c:\\users\\keert\\anaconda3\\lib\\site-packages (from Jinja2->gradio) (1.1.1)\n",
      "Requirement already satisfied: mdurl~=0.1 in c:\\users\\keert\\anaconda3\\lib\\site-packages (from markdown-it-py[linkify,plugins]->gradio) (0.1.1)\n",
      "Requirement already satisfied: linkify-it-py~=1.0 in c:\\users\\keert\\anaconda3\\lib\\site-packages (from markdown-it-py[linkify,plugins]->gradio) (1.0.3)\n",
      "Requirement already satisfied: mdit-py-plugins in c:\\users\\keert\\anaconda3\\lib\\site-packages (from markdown-it-py[linkify,plugins]->gradio) (0.3.0)\n",
      "Requirement already satisfied: uc-micro-py in c:\\users\\keert\\anaconda3\\lib\\site-packages (from linkify-it-py~=1.0->markdown-it-py[linkify,plugins]->gradio) (1.0.1)\n",
      "Requirement already satisfied: pyparsing!=2.0.4,!=2.1.2,!=2.1.6,>=2.0.3 in c:\\users\\keert\\anaconda3\\lib\\site-packages (from matplotlib->gradio) (2.4.7)\n",
      "Requirement already satisfied: cycler>=0.10 in c:\\users\\keert\\anaconda3\\lib\\site-packages (from matplotlib->gradio) (0.10.0)\n",
      "Requirement already satisfied: kiwisolver>=1.0.1 in c:\\users\\keert\\anaconda3\\lib\\site-packages (from matplotlib->gradio) (1.3.1)\n",
      "Requirement already satisfied: pytz>=2017.3 in c:\\users\\keert\\anaconda3\\lib\\site-packages (from pandas->gradio) (2021.1)\n",
      "Requirement already satisfied: cryptography>=2.5 in c:\\users\\keert\\anaconda3\\lib\\site-packages (from paramiko->gradio) (3.4.7)\n",
      "Requirement already satisfied: pynacl>=1.0.1 in c:\\users\\keert\\anaconda3\\lib\\site-packages (from paramiko->gradio) (1.4.0)\n",
      "Requirement already satisfied: bcrypt>=3.1.3 in c:\\users\\keert\\anaconda3\\lib\\site-packages (from paramiko->gradio) (3.2.0)\n",
      "Requirement already satisfied: cffi>=1.1 in c:\\users\\keert\\anaconda3\\lib\\site-packages (from bcrypt>=3.1.3->paramiko->gradio) (1.14.5)\n",
      "Requirement already satisfied: pycparser in c:\\users\\keert\\anaconda3\\lib\\site-packages (from cffi>=1.1->bcrypt>=3.1.3->paramiko->gradio) (2.20)\n",
      "Requirement already satisfied: h11>=0.8 in c:\\users\\keert\\anaconda3\\lib\\site-packages (from uvicorn->gradio) (0.13.0)\n",
      "Requirement already satisfied: asgiref>=3.4.0 in c:\\users\\keert\\anaconda3\\lib\\site-packages (from uvicorn->gradio) (3.5.2)\n",
      "Requirement already satisfied: click>=7.0 in c:\\users\\keert\\anaconda3\\lib\\site-packages (from uvicorn->gradio) (7.1.2)\n",
      "Requirement already satisfied: transformers in c:\\users\\keert\\anaconda3\\lib\\site-packages (4.19.3)\n",
      "Requirement already satisfied: huggingface-hub<1.0,>=0.1.0 in c:\\users\\keert\\anaconda3\\lib\\site-packages (from transformers) (0.7.0)\n",
      "Requirement already satisfied: requests in c:\\users\\keert\\anaconda3\\lib\\site-packages (from transformers) (2.25.1)\n",
      "Requirement already satisfied: packaging>=20.0 in c:\\users\\keert\\anaconda3\\lib\\site-packages (from transformers) (20.9)\n",
      "Requirement already satisfied: filelock in c:\\users\\keert\\anaconda3\\lib\\site-packages (from transformers) (3.0.12)\n",
      "Requirement already satisfied: numpy>=1.17 in c:\\users\\keert\\anaconda3\\lib\\site-packages (from transformers) (1.20.1)\n",
      "Requirement already satisfied: tqdm>=4.27 in c:\\users\\keert\\anaconda3\\lib\\site-packages (from transformers) (4.59.0)\n",
      "Requirement already satisfied: pyyaml>=5.1 in c:\\users\\keert\\anaconda3\\lib\\site-packages (from transformers) (5.4.1)\n",
      "Requirement already satisfied: tokenizers!=0.11.3,<0.13,>=0.11.1 in c:\\users\\keert\\anaconda3\\lib\\site-packages (from transformers) (0.12.1)\n",
      "Requirement already satisfied: regex!=2019.12.17 in c:\\users\\keert\\anaconda3\\lib\\site-packages (from transformers) (2021.4.4)\n",
      "Requirement already satisfied: typing-extensions>=3.7.4.3 in c:\\users\\keert\\anaconda3\\lib\\site-packages (from huggingface-hub<1.0,>=0.1.0->transformers) (4.2.0)\n",
      "Requirement already satisfied: pyparsing>=2.0.2 in c:\\users\\keert\\anaconda3\\lib\\site-packages (from packaging>=20.0->transformers) (2.4.7)\n",
      "Requirement already satisfied: urllib3<1.27,>=1.21.1 in c:\\users\\keert\\anaconda3\\lib\\site-packages (from requests->transformers) (1.26.4)\n",
      "Requirement already satisfied: idna<3,>=2.5 in c:\\users\\keert\\anaconda3\\lib\\site-packages (from requests->transformers) (2.10)\n",
      "Requirement already satisfied: certifi>=2017.4.17 in c:\\users\\keert\\anaconda3\\lib\\site-packages (from requests->transformers) (2020.12.5)\n",
      "Requirement already satisfied: chardet<5,>=3.0.2 in c:\\users\\keert\\anaconda3\\lib\\site-packages (from requests->transformers) (4.0.0)\n",
      "Collecting torch\n",
      "  Downloading torch-1.11.0-cp38-cp38-win_amd64.whl (158.0 MB)\n",
      "Requirement already satisfied: typing-extensions in c:\\users\\keert\\anaconda3\\lib\\site-packages (from torch) (4.2.0)\n",
      "Installing collected packages: torch\n",
      "Successfully installed torch-1.11.0\n"
     ]
    },
    {
     "data": {
      "application/vnd.jupyter.widget-view+json": {
       "model_id": "828a3e05461e4d1a835a8f4477748fce",
       "version_major": 2,
       "version_minor": 0
      },
      "text/plain": [
       "Downloading:   0%|          | 0.00/1.10k [00:00<?, ?B/s]"
      ]
     },
     "metadata": {},
     "output_type": "display_data"
    },
    {
     "data": {
      "application/vnd.jupyter.widget-view+json": {
       "model_id": "97338e2fce574177bdd47617ad228a8f",
       "version_major": 2,
       "version_minor": 0
      },
      "text/plain": [
       "Downloading:   0%|          | 0.00/515M [00:00<?, ?B/s]"
      ]
     },
     "metadata": {},
     "output_type": "display_data"
    },
    {
     "data": {
      "application/vnd.jupyter.widget-view+json": {
       "model_id": "b3495ccb5b6a4e25aa6f338a3ea88521",
       "version_major": 2,
       "version_minor": 0
      },
      "text/plain": [
       "Downloading:   0%|          | 0.00/359 [00:00<?, ?B/s]"
      ]
     },
     "metadata": {},
     "output_type": "display_data"
    },
    {
     "data": {
      "application/vnd.jupyter.widget-view+json": {
       "model_id": "c65f27237a894048a7ba6e31b8fb6ee5",
       "version_major": 2,
       "version_minor": 0
      },
      "text/plain": [
       "Downloading:   0%|          | 0.00/824k [00:00<?, ?B/s]"
      ]
     },
     "metadata": {},
     "output_type": "display_data"
    },
    {
     "data": {
      "application/vnd.jupyter.widget-view+json": {
       "model_id": "a18c74efd3da4cfbb5331bc3dbd7d0e1",
       "version_major": 2,
       "version_minor": 0
      },
      "text/plain": [
       "Downloading:   0%|          | 0.00/1.03M [00:00<?, ?B/s]"
      ]
     },
     "metadata": {},
     "output_type": "display_data"
    },
    {
     "data": {
      "application/vnd.jupyter.widget-view+json": {
       "model_id": "50abc57532144aca8847c2e9f88acbf7",
       "version_major": 2,
       "version_minor": 0
      },
      "text/plain": [
       "Downloading:   0%|          | 0.00/17.0 [00:00<?, ?B/s]"
      ]
     },
     "metadata": {},
     "output_type": "display_data"
    },
    {
     "data": {
      "application/vnd.jupyter.widget-view+json": {
       "model_id": "c8d15f2621cf448d8b2e8c727652cb6c",
       "version_major": 2,
       "version_minor": 0
      },
      "text/plain": [
       "Downloading:   0%|          | 0.00/150 [00:00<?, ?B/s]"
      ]
     },
     "metadata": {},
     "output_type": "display_data"
    },
    {
     "name": "stderr",
     "output_type": "stream",
     "text": [
      "emoji is not installed, thus not converting emoticons or emojis into text. Install emoji: pip3 install emoji==0.6.0\n",
      "C:\\Users\\keert\\anaconda3\\lib\\site-packages\\gradio\\deprecation.py:40: UserWarning: `optional` parameter is deprecated, and it has no effect\n",
      "  warnings.warn(value)\n",
      "C:\\Users\\keert\\anaconda3\\lib\\site-packages\\gradio\\deprecation.py:40: UserWarning: `numeric` parameter is deprecated, and it has no effect\n",
      "  warnings.warn(value)\n",
      "C:\\Users\\keert\\anaconda3\\lib\\site-packages\\gradio\\deprecation.py:40: UserWarning: The 'type' parameter has been deprecated. Use the Number component instead.\n",
      "  warnings.warn(value)\n",
      "C:\\Users\\keert\\anaconda3\\lib\\site-packages\\gradio\\deprecation.py:40: UserWarning: `verbose` parameter is deprecated, and it has no effect\n",
      "  warnings.warn(value)\n",
      "C:\\Users\\keert\\anaconda3\\lib\\site-packages\\gradio\\interface.py:286: UserWarning: Currently, only the 'default' theme is supported.\n",
      "  warnings.warn(\"Currently, only the 'default' theme is supported.\")\n"
     ]
    },
    {
     "name": "stdout",
     "output_type": "stream",
     "text": [
      "Running on local URL:  http://127.0.0.1:7860/\n",
      "\n",
      "To create a public link, set `share=True` in `launch()`.\n"
     ]
    },
    {
     "data": {
      "text/html": [
       "<div><iframe src=\"http://127.0.0.1:7860/\" width=\"900\" height=\"500\" allow=\"autoplay; camera; microphone;\" frameborder=\"0\" allowfullscreen></iframe></div>"
      ],
      "text/plain": [
       "<IPython.core.display.HTML object>"
      ]
     },
     "metadata": {},
     "output_type": "display_data"
    },
    {
     "name": "stderr",
     "output_type": "stream",
     "text": [
      "Exception in callback None(<Task finishe...> result=None>)\n",
      "handle: <Handle>\n",
      "Traceback (most recent call last):\n",
      "  File \"C:\\Users\\keert\\anaconda3\\lib\\asyncio\\events.py\", line 81, in _run\n",
      "    self._context.run(self._callback, *self._args)\n",
      "TypeError: 'NoneType' object is not callable\n"
     ]
    }
   ],
   "source": [
    "! pip install gradio\n",
    "! pip install transformers\n",
    "! pip install torch\n",
    "import gradio as gr\n",
    "import torch\n",
    "from transformers import AutoModelForSequenceClassification, AutoTokenizer, pipeline\n",
    "\n",
    "\n",
    "class TwitterEmotionClassifier:\n",
    "    def __init__(self, model_name: str, model_type: str):\n",
    "        self.is_gpu = False\n",
    "        self.model_type = model_type\n",
    "        device = torch.device(\"cuda\") if self.is_gpu else torch.device(\"cpu\")\n",
    "        model = AutoModelForSequenceClassification.from_pretrained(model_name)\n",
    "        tokenizer = AutoTokenizer.from_pretrained(model_name)\n",
    "        model.to(device)\n",
    "        model.eval()\n",
    "        self.bertweet = pipeline(\n",
    "            \"text-classification\",\n",
    "            model=model,\n",
    "            tokenizer=tokenizer,\n",
    "            device=self.is_gpu - 1,\n",
    "        )\n",
    "        self.emotions = {\n",
    "            \"LABEL_0\": \"sadness\",\n",
    "            \"LABEL_1\": \"joy\",\n",
    "            \"LABEL_2\": \"love\",\n",
    "            \"LABEL_3\": \"anger\",\n",
    "            \"LABEL_4\": \"fear\",\n",
    "            \"LABEL_5\": \"surprise\",\n",
    "        }\n",
    "\n",
    "    def get_model(self, model_type: str):\n",
    "        if self.model_type == \"bertweet\" and model_type == self.model_type:\n",
    "            return self.bertweet\n",
    "       \n",
    "\n",
    "    def predict(self, twitter: str, model_type: str):\n",
    "        classifier = self.get_model(model_type)\n",
    "        preds = classifier(twitter, return_all_scores=True)\n",
    "        if preds:\n",
    "            pred = preds[0]\n",
    "            res = {\n",
    "                \"Sadness 😢\": pred[0][\"score\"],\n",
    "                \"Joy 😂\": pred[1][\"score\"],\n",
    "                \"Love 💛\": pred[2][\"score\"],\n",
    "                \"Anger 😠\": pred[3][\"score\"],\n",
    "                \"Fear 😱\": pred[4][\"score\"],\n",
    "                \"Surprise 😮\": pred[5][\"score\"],\n",
    "            }\n",
    "            return res\n",
    "        return None\n",
    "\n",
    "\n",
    "def main():\n",
    "\n",
    "    model = TwitterEmotionClassifier(\"Emanuel/bertweet-emotion-base\", \"bertweet\")\n",
    "    interFace = gr.Interface(\n",
    "        fn=model.predict,\n",
    "        inputs=[\n",
    "            gr.inputs.Textbox(\n",
    "                placeholder=\"What's happenning?\", label=\"Tweet content\", lines=5\n",
    "            ),\n",
    "            gr.inputs.Radio([\"bertweet\"], label=\"Model\"),\n",
    "        ],\n",
    "        outputs=gr.outputs.Label(num_top_classes=6, label=\"Emotions of this tweet is \"),\n",
    "        verbose=True,\n",
    "        examples=[\n",
    "            [\"covid19 deaths continue to rise. It's almost  as bad as it ever was.\", \"bertweet\"],\n",
    "            [\n",
    "                \"If I smelled the scent of hand sanitizers today on someone in the past, I would think they were so intoxicated.\",\n",
    "                \"bertweet\",\n",
    "            ],\n",
    "            [\"The one gift COVID-19 has give me is an appreciation for the simple things that were always around\", \"bertweet\"],\n",
    "            [\n",
    "                \"You now have to wear face coverings when out shopping - this includes a visit to your local Community.\",\n",
    "                \"bertweet\",\n",
    "            ],\n",
    "            \n",
    "        ],\n",
    "        title=\"Emotion classification 🤖\",\n",
    "        description=\"\",\n",
    "        theme=\"huggingface\",\n",
    "    )\n",
    "    interFace.launch()\n",
    "\n",
    "\n",
    "if __name__ == \"__main__\":\n",
    "    main()\n"
   ]
  },
  {
   "cell_type": "code",
   "execution_count": null,
   "id": "f32e111c",
   "metadata": {},
   "outputs": [],
   "source": []
  }
 ],
 "metadata": {
  "kernelspec": {
   "display_name": "Python 3",
   "language": "python",
   "name": "python3"
  },
  "language_info": {
   "codemirror_mode": {
    "name": "ipython",
    "version": 3
   },
   "file_extension": ".py",
   "mimetype": "text/x-python",
   "name": "python",
   "nbconvert_exporter": "python",
   "pygments_lexer": "ipython3",
   "version": "3.8.8"
  }
 },
 "nbformat": 4,
 "nbformat_minor": 5
}
